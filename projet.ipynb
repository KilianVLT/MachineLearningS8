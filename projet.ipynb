{
 "cells": [
  {
   "cell_type": "markdown",
   "metadata": {},
   "source": [
    "# Projet Gustave Malachane Kilian Violet"
   ]
  },
  {
   "cell_type": "code",
   "execution_count": 8,
   "metadata": {},
   "outputs": [
    {
     "name": "stdout",
     "output_type": "stream",
     "text": [
      "Requirement already satisfied: requests in c:\\users\\viole\\appdata\\local\\programs\\python\\python313\\lib\\site-packages (2.32.3)\n",
      "Requirement already satisfied: charset-normalizer<4,>=2 in c:\\users\\viole\\appdata\\local\\programs\\python\\python313\\lib\\site-packages (from requests) (3.4.1)\n",
      "Requirement already satisfied: idna<4,>=2.5 in c:\\users\\viole\\appdata\\local\\programs\\python\\python313\\lib\\site-packages (from requests) (3.10)\n",
      "Requirement already satisfied: urllib3<3,>=1.21.1 in c:\\users\\viole\\appdata\\local\\programs\\python\\python313\\lib\\site-packages (from requests) (2.3.0)\n",
      "Requirement already satisfied: certifi>=2017.4.17 in c:\\users\\viole\\appdata\\local\\programs\\python\\python313\\lib\\site-packages (from requests) (2025.1.31)\n"
     ]
    }
   ],
   "source": [
    "!py -m pip install requests"
   ]
  },
  {
   "cell_type": "code",
   "execution_count": 9,
   "metadata": {},
   "outputs": [],
   "source": [
    "import urllib.request\n",
    "import json\n",
    "import pandas as pd\n",
    "import requests\n",
    "import shutil\n",
    "import os\n",
    "\n",
    "def download_image(url, name):\n",
    "\n",
    "    headers = {\"User-Agent\": \"Mozilla/5.0\"}\n",
    "    request = requests.get(url, allow_redirects=True, headers=headers, stream=True)\n",
    "    if request.status_code == 200:\n",
    "        with open(\"./images/\"+name+\".jpg\", \"wb\") as image:\n",
    "            request.raw.decode_content = True\n",
    "            shutil.copyfileobj(request.raw, image)\n",
    "    return request.status_code\n",
    "\n",
    "\n",
    "url = \"https://query.wikidata.org/sparql?query=Select%20%3Fvolcan%20%3Fimage%20%3Flabel_pays%20%3Fhauteur%20%3Flabel%20%7B%0A%20%20%3Fvolcan%20wdt%3AP31%20wd%3AQ169358%3B%0A%20%20%20%20%20%20%20%20wdt%3AP18%20%3Fimage%3B%0A%20%20%20%20%20%20%20%20wdt%3AP17%20%3Fpays%3B%0A%20%20%20%20%20%20%20%20wdt%3AP2660%20%3Fhauteur%3B%0A%20%20%20%20%20%20%20%20rdfs%3Alabel%20%3Flabel.%0A%20%20%0A%20%20%3Fpays%20rdfs%3Alabel%20%3Flabel_pays.%0A%20%20%0A%20%20FILTER(lang(%3Flabel)%3D%22en%22%20%26%26%20lang(%3Flabel_pays)%3D%22en%22)%0A%7D%0A%0ALIMIT%20150&format=json\"\n",
    "response = urllib.request.urlopen(url)\n",
    "responsedata = json.loads(response.read().decode(\"utf-8\"))\n",
    "\n",
    "array = []\n",
    "metadata_list = []\n",
    "i = 1\n",
    "for data in responsedata[\"results\"][\"bindings\"]:\n",
    "\n",
    "    metadata = {\n",
    "        \"nom\": data[\"label\"][\"value\"],\n",
    "        \"hauteur\": data[\"hauteur\"][\"value\"],\n",
    "        \"pays\": data[\"label_pays\"][\"value\"]            \n",
    "    }\n",
    "\n",
    "    metadata_list.append(metadata)\n",
    "    response = download_image(str(data[\"image\"][\"value\"]).replace(\"%20\", \"_\").replace(\"%C3%A1\", \"a\"), metadata[\"nom\"])\n",
    "    \n",
    "    i += 1\n",
    "    \n",
    "dataframe = pd.DataFrame(array, columns=[\"label\", \"image\"])\n",
    "\n",
    "with open(\"metadata.json\", \"w\", encoding=\"utf-8\") as json_file:\n",
    "    json.dump(metadata_list, json_file, indent=4, ensure_ascii=False)"
   ]
  },
  {
   "cell_type": "markdown",
   "metadata": {},
   "source": [
    "## Récupération des données exifs des images\n",
    "\n",
    "Ici grâce à la librairie PIL & exifread, nous pouvons accéder aux données exifs de l'image. elles sont ensuite stockées dans le fichier JSON metadata.json"
   ]
  },
  {
   "cell_type": "code",
   "execution_count": 10,
   "metadata": {},
   "outputs": [
    {
     "name": "stdout",
     "output_type": "stream",
     "text": [
      "Requirement already satisfied: exifread in c:\\users\\viole\\appdata\\local\\programs\\python\\python313\\lib\\site-packages (3.0.0)\n"
     ]
    }
   ],
   "source": [
    "!py -m pip install exifread"
   ]
  },
  {
   "cell_type": "code",
   "execution_count": 11,
   "metadata": {},
   "outputs": [
    {
     "name": "stdout",
     "output_type": "stream",
     "text": [
      "⚠️ Erreur avec Mount Ragang.jpg : Image size (768777555 pixels) exceeds limit of 178956970 pixels, could be decompression bomb DOS attack.\n",
      "\n",
      " Métadonnées enregistrées dans metadata.json\n"
     ]
    }
   ],
   "source": [
    "import os\n",
    "import json\n",
    "from PIL import Image\n",
    "import exifread\n",
    "\n",
    "# Dossier contenant les images\n",
    "image_folder = \"images\"\n",
    "\n",
    "# Parcourir chaque fichier image\n",
    "for image_name in os.listdir(image_folder):\n",
    "    image_path = os.path.join(image_folder, image_name)\n",
    "\n",
    "    try:\n",
    "        # Ouvrir l'image avec PIL\n",
    "        with Image.open(image_path) as img:\n",
    "            width, height = img.size\n",
    "            format_img = img.format\n",
    "\n",
    "            # Déterminer l'orientation\n",
    "            if width > height:\n",
    "                orientation = \"Paysage\"\n",
    "            elif height > width:\n",
    "                orientation = \"Portrait\"\n",
    "            else:\n",
    "                orientation = \"Carré\"\n",
    "\n",
    "        # Lire les métadonnées EXIF\n",
    "        with open(image_path, \"rb\") as img_file:\n",
    "            tags = exifread.process_file(img_file, details=False)\n",
    "            date_creation = tags.get(\"EXIF DateTimeOriginal\", \"Inconnu\")\n",
    "            camera_model = tags.get(\"Image Model\", \"Inconnu\")\n",
    "\n",
    "        # Stocker les métadonnées dans un dictionnaire\n",
    "        metadataIndex = next((i for i, md in enumerate(metadata_list) if md[\"nom\"]+\".jpg\" == image_name), -1)\n",
    "        \n",
    "        exif = {\n",
    "            \"nom\": image_name,\n",
    "            \"chemin\": image_path,\n",
    "            \"taille\": f\"{width}x{height}\",\n",
    "            \"format\": format_img,\n",
    "            \"orientation\": orientation,\n",
    "            \"date_creation\": str(date_creation),\n",
    "            \"modele_camera\": str(camera_model),\n",
    "        }\n",
    "\n",
    "        metadata_list[metadataIndex][\"image\"] = exif\n",
    "\n",
    "    except Exception as e:\n",
    "        print(f\"⚠️ Erreur avec {image_name} : {e}\")\n",
    "\n",
    "# Sauvegarder les métadonnées en JSON\n",
    "with open(\"metadata.json\", \"w\", encoding=\"utf-8\") as json_file:\n",
    "    json.dump(metadata_list, json_file, indent=4, ensure_ascii=False)\n",
    "\n",
    "print(\"\\n Métadonnées enregistrées dans metadata.json\")\n"
   ]
  },
  {
   "cell_type": "code",
   "execution_count": null,
   "metadata": {},
   "outputs": [],
   "source": []
  }
 ],
 "metadata": {
  "kernelspec": {
   "display_name": "Python 3",
   "language": "python",
   "name": "python3"
  },
  "language_info": {
   "codemirror_mode": {
    "name": "ipython",
    "version": 3
   },
   "file_extension": ".py",
   "mimetype": "text/x-python",
   "name": "python",
   "nbconvert_exporter": "python",
   "pygments_lexer": "ipython3",
   "version": "3.13.0"
  }
 },
 "nbformat": 4,
 "nbformat_minor": 4
}
