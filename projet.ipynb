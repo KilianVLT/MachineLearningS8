{
 "cells": [
  {
   "cell_type": "markdown",
   "metadata": {},
   "source": [
    "# Projet Gustave Malachane Kilian Violet"
   ]
  },
  {
   "cell_type": "code",
   "execution_count": null,
   "metadata": {},
   "outputs": [
    {
     "name": "stdout",
     "output_type": "stream",
     "text": [
      "Requirement already satisfied: requests in c:\\users\\viole\\appdata\\local\\programs\\python\\python313\\lib\\site-packages (2.32.3)\n",
      "Requirement already satisfied: charset-normalizer<4,>=2 in c:\\users\\viole\\appdata\\local\\programs\\python\\python313\\lib\\site-packages (from requests) (3.4.1)\n",
      "Requirement already satisfied: idna<4,>=2.5 in c:\\users\\viole\\appdata\\local\\programs\\python\\python313\\lib\\site-packages (from requests) (3.10)\n",
      "Requirement already satisfied: urllib3<3,>=1.21.1 in c:\\users\\viole\\appdata\\local\\programs\\python\\python313\\lib\\site-packages (from requests) (2.3.0)\n",
      "Requirement already satisfied: certifi>=2017.4.17 in c:\\users\\viole\\appdata\\local\\programs\\python\\python313\\lib\\site-packages (from requests) (2025.1.31)\n"
     ]
    },
    {
     "name": "stderr",
     "output_type": "stream",
     "text": [
      "\n",
      "[notice] A new release of pip is available: 25.0 -> 25.0.1\n",
      "[notice] To update, run: python.exe -m pip install --upgrade pip\n"
     ]
    }
   ],
   "source": [
    "!py -m pip install requests"
   ]
  },
  {
   "cell_type": "code",
   "execution_count": 2,
   "metadata": {},
   "outputs": [
    {
     "name": "stdout",
     "output_type": "stream",
     "text": [
      "Empty DataFrame\n",
      "Columns: [label, image]\n",
      "Index: []\n"
     ]
    }
   ],
   "source": [
    "import urllib.request\n",
    "import json\n",
    "import pandas as pd\n",
    "import requests\n",
    "import shutil\n",
    "import os\n",
    "\n",
    "def download_image(url):\n",
    "\n",
    "    headers = {\"User-Agent\": \"Mozilla/5.0\"}\n",
    "    request = requests.get(url, allow_redirects=True, headers=headers, stream=True)\n",
    "    if request.status_code == 200:\n",
    "        with open(\"./images/\"+os.path.basename(url), \"wb\") as image:\n",
    "            request.raw.decode_content = True\n",
    "            shutil.copyfileobj(request.raw, image)\n",
    "    return request.status_code\n",
    "\n",
    "\n",
    "url = \"https://query.wikidata.org/sparql?query=Select%20%3Fvolcan%20%3Fimage%20%3Flabel_pays%20%20%3Fhauteur%20%3Fhauteur_mer%20%3Fcoordonnees%20%3Flabel%20%7B%0A%20%20%3Fvolcan%20wdt%3AP31%20wd%3AQ169358%3B%0A%20%20%20%20%20%20%20%20wdt%3AP18%20%3Fimage%3B%0A%20%20%20%20%20%20%20%20wdt%3AP17%20%3Fpays%3B%0A%20%20%20%20%20%20%20%20wdt%3AP30%20%3Fcontinent%3B%0A%20%20%20%20%20%20%20%20wdt%3AP2660%20%3Fhauteur%3B%0A%20%20%20%20%20%20%20%20wdt%3AP2044%20%3Fhauteur_mer%3B%0A%20%20%20%20%20%20%20%20wdt%3AP625%20%3Fcoordonnees%3B%0A%20%20%20%20%20%20%20%20rdfs%3Alabel%20%3Flabel.%0A%20%20%0A%20%20%3Fpays%20rdfs%3Alabel%20%3Flabel_pays.%0A%20%20%0A%20%20FILTER(lang(%3Flabel)%3D%22en%22%20%26%26%20lang(%3Flabel_pays)%3D%22en%22)%0A%7D%0A%0ALIMIT%20150&format=json\"\n",
    "response = urllib.request.urlopen(url)\n",
    "responsedata = json.loads(response.read().decode(\"utf-8\"))\n",
    "\n",
    "array = []\n",
    "i = 1\n",
    "for data in responsedata[\"results\"][\"bindings\"]:\n",
    "    \n",
    "    response = download_image(data[\"image\"][\"value\"])\n",
    "    i += 1\n",
    "    \n",
    "    #array.append([data[\"label\"][\"value\"], data[\"image\"][\"value\"]])\n",
    "dataframe = pd.DataFrame(array, columns=[\"label\", \"image\"])\n",
    "print(dataframe)"
   ]
  },
  {
   "cell_type": "code",
   "execution_count": null,
   "metadata": {},
   "outputs": [],
   "source": [
    "import os\n",
    "import json\n",
    "from PIL import Image\n",
    "import exifread\n",
    "\n",
    "# Dossier contenant les images\n",
    "image_folder = \"images\"\n",
    "metadata_list = []\n",
    "\n",
    "# Parcourir chaque fichier image\n",
    "for image_name in os.listdir(image_folder):\n",
    "    image_path = os.path.join(image_folder, image_name)\n",
    "\n",
    "    try:\n",
    "        # Ouvrir l'image avec PIL\n",
    "        with Image.open(image_path) as img:\n",
    "            width, height = img.size\n",
    "            format_img = img.format\n",
    "\n",
    "            # Déterminer l'orientation\n",
    "            if width > height:\n",
    "                orientation = \"Paysage\"\n",
    "            elif height > width:\n",
    "                orientation = \"Portrait\"\n",
    "            else:\n",
    "                orientation = \"Carré\"\n",
    "\n",
    "        # Lire les métadonnées EXIF\n",
    "        with open(image_path, \"rb\") as img_file:\n",
    "            tags = exifread.process_file(img_file, details=False)\n",
    "            date_creation = tags.get(\"EXIF DateTimeOriginal\", \"Inconnu\")\n",
    "            camera_model = tags.get(\"Image Model\", \"Inconnu\")\n",
    "\n",
    "        # Stocker les métadonnées dans un dictionnaire\n",
    "        metadata = {\n",
    "            \"nom\": image_name,\n",
    "            \"chemin\": image_path,\n",
    "            \"taille\": f\"{width}x{height}\",\n",
    "            \"format\": format_img,\n",
    "            \"orientation\": orientation,\n",
    "            \"date_creation\": str(date_creation),\n",
    "            \"modele_camera\": str(camera_model),\n",
    "        }\n",
    "\n",
    "        metadata_list.append(metadata)\n",
    "        print(f\"✅ Métadonnées extraites pour : {image_name}\")\n",
    "\n",
    "    except Exception as e:\n",
    "        print(f\"⚠️ Erreur avec {image_name} : {e}\")\n",
    "\n",
    "# Sauvegarder les métadonnées en JSON\n",
    "with open(\"metadata.json\", \"w\", encoding=\"utf-8\") as json_file:\n",
    "    json.dump(metadata_list, json_file, indent=4, ensure_ascii=False)\n",
    "\n",
    "print(\"\\n📄 Métadonnées enregistrées dans metadata.json\")\n"
   ]
  }
 ],
 "metadata": {
  "kernelspec": {
   "display_name": "Python 3 (ipykernel)",
   "language": "python",
   "name": "python3"
  },
  "language_info": {
   "codemirror_mode": {
    "name": "ipython",
    "version": 3
   },
   "file_extension": ".py",
   "mimetype": "text/x-python",
   "name": "python",
   "nbconvert_exporter": "python",
   "pygments_lexer": "ipython3",
   "version": "3.13.0"
  }
 },
 "nbformat": 4,
 "nbformat_minor": 4
}
