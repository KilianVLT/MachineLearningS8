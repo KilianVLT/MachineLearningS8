{
 "cells": [
  {
   "cell_type": "markdown",
   "metadata": {},
   "source": [
    "# Projet Gustave Malachane Kilian Violet"
   ]
  },
  {
   "cell_type": "markdown",
   "metadata": {},
   "source": [
    "## Étape 1 : Collecte des données\n",
    "\n",
    "Pour ce projet nous nous interesserons aux volcans. La première étape consiste à collecter les données grâce à une requête SPARQL sur wikidata."
   ]
  },
  {
   "cell_type": "code",
   "execution_count": null,
   "metadata": {},
   "outputs": [],
   "source": []
  },
  {
   "cell_type": "code",
   "execution_count": 14,
   "metadata": {},
   "outputs": [
    {
     "name": "stdout",
     "output_type": "stream",
     "text": [
      "            label                                              image\n",
      "0    mont Iliamna  http://commons.wikimedia.org/wiki/Special:File...\n",
      "1    mont Iliamna  http://commons.wikimedia.org/wiki/Special:File...\n",
      "2    mont Iliamna  http://commons.wikimedia.org/wiki/Special:File...\n",
      "3    mont Iliamna  http://commons.wikimedia.org/wiki/Special:File...\n",
      "4    mont Iliamna  http://commons.wikimedia.org/wiki/Special:File...\n",
      "..            ...                                                ...\n",
      "533  Llullaillaco  http://commons.wikimedia.org/wiki/Special:File...\n",
      "534  Llullaillaco  http://commons.wikimedia.org/wiki/Special:File...\n",
      "535  Llullaillaco  http://commons.wikimedia.org/wiki/Special:File...\n",
      "536  Llullaillaco  http://commons.wikimedia.org/wiki/Special:File...\n",
      "537  Llullaillaco  http://commons.wikimedia.org/wiki/Special:File...\n",
      "\n",
      "[538 rows x 2 columns]\n"
     ]
    }
   ],
   "source": [
    "import urllib.request\n",
    "import json\n",
    "import pandas as pd\n",
    "\n",
    "url = \"https://query.wikidata.org/sparql?query=Select%20%3Fvolcan%20%3Fimage%20%3Flabel_pays%20%20%3Fhauteur%20%3Fhauteur_mer%20%3Flabel_parc_protege%20%3Fcoordonnees%20%3Flabel%20%7B%0A%20%20%3Fvolcan%20wdt%3AP31%20wd%3AQ169358%3B%0A%20%20%20%20%20%20%20%20wdt%3AP18%20%3Fimage%3B%0A%20%20%20%20%20%20%20%20wdt%3AP17%20%3Fpays%3B%0A%20%20%20%20%20%20%20%20wdt%3AP30%20%3Fcontinent%3B%0A%20%20%20%20%20%20%20%20wdt%3AP2660%20%3Fhauteur%3B%0A%20%20%20%20%20%20%20%20wdt%3AP2044%20%3Fhauteur_mer%3B%0A%20%20%20%20%20%20%20%20wdt%3AP3018%20%3Fparc_protege%3B%0A%20%20%20%20%20%20%20%20wdt%3AP625%20%3Fcoordonnees%3B%0A%20%20%20%20%20%20%20%20rdfs%3Alabel%20%3Flabel.%0A%20%20%3Fpays%20rdfs%3Alabel%20%3Flabel_pays.%0A%20%20%3Fparc_protege%20rdfs%3Alabel%20%3Flabel_parc_protege.%0A%20%20FILTER(lang(%3Flabel)%3D%22fr%22%20%26%26%20lang(%3Flabel_pays)%3D%22en%22)%0A%7D&format=json\"\n",
    "response = urllib.request.urlopen(url)\n",
    "responsedata = json.loads(response.read().decode(\"utf-8\"))\n",
    "\n",
    "array = []\n",
    "i = 1\n",
    "for data in responsedata[\"results\"][\"bindings\"]:\n",
    "    array.append([data[\"label\"][\"value\"], data[\"image\"][\"value\"]])\n",
    "    i += 1\n",
    "dataframe = pd.DataFrame(array, columns=[\"label\", \"image\"])\n",
    "print(dataframe)"
   ]
  }
 ],
 "metadata": {
  "kernelspec": {
   "display_name": "Python 3",
   "language": "python",
   "name": "python3"
  },
  "language_info": {
   "codemirror_mode": {
    "name": "ipython",
    "version": 3
   },
   "file_extension": ".py",
   "mimetype": "text/x-python",
   "name": "python",
   "nbconvert_exporter": "python",
   "pygments_lexer": "ipython3",
   "version": "3.13.0"
  }
 },
 "nbformat": 4,
 "nbformat_minor": 4
}
